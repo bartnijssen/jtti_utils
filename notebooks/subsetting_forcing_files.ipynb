{
 "cells": [
  {
   "cell_type": "code",
   "execution_count": 1,
   "metadata": {},
   "outputs": [
    {
     "data": {
      "text/plain": [
       "{180500050600}"
      ]
     },
     "execution_count": 1,
     "metadata": {},
     "output_type": "execute_result"
    }
   ],
   "source": [
    "import xarray as xr\n",
    "import os\n",
    "\n",
    "ipath = '/glade/work/andywood/wreg/p2p/maps'\n",
    "opath = ipath.replace('andywood', 'nijssen')\n",
    "\n",
    "id_list_file = os.path.join(ipath, 'cali_polyid.txt')\n",
    "ifile = os.path.join(ipath, 'R18_HUC12.forcing.198001.nc')\n",
    "ofile = os.path.join(opath, 'R18_HUC12.forcing.198001.nc'.replace('.nc', '_subset.nc'))\n",
    "\n",
    "with open(id_list_file) as f:\n",
    "    ids = [int(x) for x in f]\n",
    "\n",
    "ds = xr.open_dataset(ifile)\n",
    "\n",
    "ds_subset = ds.where(ds.hruId.isin(ids), drop=True)\n",
    "\n",
    "ds_subset.to_netcdf(ofile)\n",
    "\n",
    "a = set(ds_subset.hruId.values)\n",
    "\n",
    "set(ids).difference(a)"
   ]
  },
  {
   "cell_type": "code",
   "execution_count": null,
   "metadata": {},
   "outputs": [],
   "source": []
  }
 ],
 "metadata": {
  "kernelspec": {
   "display_name": "Python (jtti)",
   "language": "python",
   "name": "jtti"
  },
  "language_info": {
   "codemirror_mode": {
    "name": "ipython",
    "version": 3
   },
   "file_extension": ".py",
   "mimetype": "text/x-python",
   "name": "python",
   "nbconvert_exporter": "python",
   "pygments_lexer": "ipython3",
   "version": "3.7.3"
  }
 },
 "nbformat": 4,
 "nbformat_minor": 2
}
